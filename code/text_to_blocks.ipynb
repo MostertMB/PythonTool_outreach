{
 "cells": [
  {
   "cell_type": "code",
   "execution_count": 15,
   "metadata": {
    "collapsed": false
   },
   "outputs": [],
   "source": [
    "import sys\n",
    "sys.path.append('./mcpipy/')\n",
    "from mine import *\n",
    "import datetime\n",
    "import time"
   ]
  },
  {
   "cell_type": "code",
   "execution_count": 24,
   "metadata": {
    "collapsed": false
   },
   "outputs": [],
   "source": [
    "def text_to_block(word, colour):\n",
    "    print(\"block.WOOL_{}\".format(colour.upper()))\n",
    "    foreground = eval(\"block.WOOL_{}\".format(colour.upper()))\n",
    "    foreground = block.WOOL_BLACK\n",
    "    background = block.AIR\n",
    "\n",
    "    mc = Minecraft()\n",
    "    pos = mc.player.getTilePos()\n",
    "    rot = mc.player.getRotation()\n",
    "    rot_p = rot + 90\n",
    "    forward = text.angleToTextDirectionCardinal(rot)\n",
    "    perp = text.angleToTextDirectionCardinal(rot_p)\n",
    "\n",
    "    text.drawText(mc, fonts.FONTS['8x8'], pos - forward*20 - perp*25,\n",
    "                  forward, Vec3(0,1,0), word,\n",
    "                  foreground, background);"
   ]
  },
  {
   "cell_type": "code",
   "execution_count": 25,
   "metadata": {
    "collapsed": false
   },
   "outputs": [
    {
     "name": "stdout",
     "output_type": "stream",
     "text": [
      "block.WOOL_RED\n"
     ]
    }
   ],
   "source": [
    "text_to_block(\"Alvaro\", \"red\")"
   ]
  },
  {
   "cell_type": "code",
   "execution_count": 23,
   "metadata": {
    "collapsed": false
   },
   "outputs": [],
   "source": [
    "mc = Minecraft()\n",
    "position = mc.player.getPos()\n",
    "mc.setBlock(position.x, position.y - 1, position.z,\n",
    "            35, 3)"
   ]
  },
  {
   "cell_type": "code",
   "execution_count": null,
   "metadata": {
    "collapsed": true
   },
   "outputs": [],
   "source": []
  }
 ],
 "metadata": {
  "anaconda-cloud": {},
  "kernelspec": {
   "display_name": "Python [p3]",
   "language": "python",
   "name": "Python [p3]"
  },
  "language_info": {
   "codemirror_mode": {
    "name": "ipython",
    "version": 3
   },
   "file_extension": ".py",
   "mimetype": "text/x-python",
   "name": "python",
   "nbconvert_exporter": "python",
   "pygments_lexer": "ipython3",
   "version": "3.5.2"
  }
 },
 "nbformat": 4,
 "nbformat_minor": 0
}
