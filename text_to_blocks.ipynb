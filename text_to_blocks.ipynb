{
 "cells": [
  {
   "cell_type": "code",
   "execution_count": 68,
   "metadata": {
    "collapsed": false
   },
   "outputs": [],
   "source": [
    "from mine import *\n",
    "import text\n",
    "import fonts\n",
    "import datetime\n",
    "import time"
   ]
  },
  {
   "cell_type": "code",
   "execution_count": 106,
   "metadata": {
    "collapsed": false
   },
   "outputs": [],
   "source": [
    "foreground = block.SEA_LANTERN # this needs Minecraft 1.8\n",
    "background = block.AIR\n",
    "\n",
    "mc = Minecraft()\n",
    "pos = mc.player.getTilePos()\n",
    "rot = mc.player.getRotation()\n",
    "rot_p = rot + 90\n",
    "forward = text.angleToTextDirectionCardinal(rot)\n",
    "perp = text.angleToTextDirectionCardinal(rot_p)\n",
    "\n",
    "text.drawText(mc, fonts.FONTS['8x8'], pos - forward*20 - perp*25,\n",
    "              forward, Vec3(0,1,0), \"ASHLEY\",\n",
    "              foreground, background);"
   ]
  },
  {
   "cell_type": "code",
   "execution_count": null,
   "metadata": {
    "collapsed": true
   },
   "outputs": [],
   "source": []
  }
 ],
 "metadata": {
  "kernelspec": {
   "display_name": "Python 2",
   "language": "python",
   "name": "python2"
  },
  "language_info": {
   "codemirror_mode": {
    "name": "ipython",
    "version": 2
   },
   "file_extension": ".py",
   "mimetype": "text/x-python",
   "name": "python",
   "nbconvert_exporter": "python",
   "pygments_lexer": "ipython2",
   "version": "2.7.11"
  }
 },
 "nbformat": 4,
 "nbformat_minor": 0
}
